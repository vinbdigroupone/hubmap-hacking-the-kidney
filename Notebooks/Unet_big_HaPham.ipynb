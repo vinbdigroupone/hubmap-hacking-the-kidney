{
  "nbformat": 4,
  "nbformat_minor": 0,
  "metadata": {
    "colab": {
      "name": "unet_test.ipynb",
      "provenance": []
    },
    "kernelspec": {
      "name": "python3",
      "display_name": "Python 3"
    },
    "accelerator": "GPU"
  },
  "cells": [
    {
      "cell_type": "code",
      "metadata": {
        "colab": {
          "base_uri": "https://localhost:8080/"
        },
        "id": "567QNRnUUFcl",
        "outputId": "4104a68b-9fcb-4a59-ea9e-3fe2491ed19d"
      },
      "source": [
        "!nvidia-smi"
      ],
      "execution_count": 1,
      "outputs": [
        {
          "output_type": "stream",
          "text": [
            "Wed Dec  2 11:16:06 2020       \n",
            "+-----------------------------------------------------------------------------+\n",
            "| NVIDIA-SMI 455.38       Driver Version: 418.67       CUDA Version: 10.1     |\n",
            "|-------------------------------+----------------------+----------------------+\n",
            "| GPU  Name        Persistence-M| Bus-Id        Disp.A | Volatile Uncorr. ECC |\n",
            "| Fan  Temp  Perf  Pwr:Usage/Cap|         Memory-Usage | GPU-Util  Compute M. |\n",
            "|                               |                      |               MIG M. |\n",
            "|===============================+======================+======================|\n",
            "|   0  Tesla P100-PCIE...  Off  | 00000000:00:04.0 Off |                    0 |\n",
            "| N/A   43C    P0    29W / 250W |      0MiB / 16280MiB |      0%      Default |\n",
            "|                               |                      |                 ERR! |\n",
            "+-------------------------------+----------------------+----------------------+\n",
            "                                                                               \n",
            "+-----------------------------------------------------------------------------+\n",
            "| Processes:                                                                  |\n",
            "|  GPU   GI   CI        PID   Type   Process name                  GPU Memory |\n",
            "|        ID   ID                                                   Usage      |\n",
            "|=============================================================================|\n",
            "|  No running processes found                                                 |\n",
            "+-----------------------------------------------------------------------------+\n"
          ],
          "name": "stdout"
        }
      ]
    },
    {
      "cell_type": "code",
      "metadata": {
        "id": "OCWOxbyFIAb9"
      },
      "source": [
        "import torch\n",
        "import torch.nn as nn\n",
        "import torch.nn.functional as F\n",
        "\n",
        "from torch.optim import Adam\n",
        "from torch.optim.lr_scheduler import ReduceLROnPlateau\n",
        "from torch.utils.data import Dataset, DataLoader\n",
        "\n",
        "from IPython.display import clear_output\n",
        "\n",
        "from sklearn.model_selection import KFold\n",
        "\n",
        "import matplotlib.pyplot as plt\n",
        "\n",
        "import albumentations as A"
      ],
      "execution_count": 1,
      "outputs": []
    },
    {
      "cell_type": "code",
      "metadata": {
        "id": "wQTBVfGgStBs"
      },
      "source": [
        "class DoubleConv(nn.Module):\n",
        "  def __init__(self, in_channels, out_channels, mid_channels=None):\n",
        "    super(DoubleConv, self).__init__()\n",
        "    if not mid_channels:\n",
        "      mid_channels = out_channels\n",
        "    self.conv1 = nn.Conv2d(in_channels, mid_channels, kernel_size=3, padding=1)\n",
        "    self.bn1 = nn.BatchNorm2d(mid_channels)\n",
        "    self.conv2 = nn.Conv2d(mid_channels, out_channels, kernel_size=3, padding=1)\n",
        "    self.bn2 = nn.BatchNorm2d(out_channels)\n",
        "\n",
        "  def forward(self, x):\n",
        "    x = F.relu(self.conv1(x), inplace=True)\n",
        "    x = self.bn1(x)\n",
        "    x = F.relu(self.conv2(x), inplace=True)\n",
        "    x = self.bn2(x)\n",
        "    return x\n",
        "\n",
        "class Down(nn.Module):\n",
        "  def __init__(self, in_channels, out_channels):\n",
        "    super(Down, self).__init__()\n",
        "    self.pool = nn.MaxPool2d(2)\n",
        "    self.doubConv = DoubleConv(in_channels, out_channels)\n",
        "  \n",
        "  def forward(self, x):\n",
        "    return self.pool(self.doubConv(x))\n",
        "\n",
        "\n",
        "class Up(nn.Module):\n",
        "  def __init__(self, in_channels, out_channels, bilinear=True):\n",
        "    super(Up, self).__init__()\n",
        "    if bilinear:\n",
        "      self.up = nn.Upsample(scale_factor=2, mode='bilinear', align_corners=True)\n",
        "      self.conv = DoubleConv(in_channels, out_channels, in_channels//2)\n",
        "    else:\n",
        "      self.up = nn.ConvTranspose2d(in_channels, in_channels//2, kernel_size=2, stride=2)\n",
        "      self.conv = DoubleConv(in_channels, out_channels)\n",
        "\n",
        "  def forward(self, x1, x2):\n",
        "    x1 = self.up(x1)\n",
        "    diffY = x2.size()[2] - x1.size()[2]\n",
        "    diffX = x2.size()[3] - x1.size()[3]\n",
        "    x1 = F.pad(x1, [diffX // 2, diffX - diffX // 2, diffY // 2, diffY - diffY // 2])\n",
        "    x = torch.cat([x2, x1], dim=1)\n",
        "    return self.conv(x)\n",
        "\n",
        "class OutConv(nn.Module):\n",
        "  def __init__(self, in_channels, out_channels):\n",
        "    super(OutConv, self).__init__()\n",
        "    self.conv = nn.Conv2d(in_channels, out_channels, kernel_size=1)\n",
        "\n",
        "  def forward(self, x):\n",
        "    return self.conv(x)"
      ],
      "execution_count": 2,
      "outputs": []
    },
    {
      "cell_type": "code",
      "metadata": {
        "id": "W9lu8BKeo3qf"
      },
      "source": [
        "class UNet(nn.Module):\n",
        "  def __init__(self, n_channels, n_classes, bilinear=True):\n",
        "    super(UNet, self).__init__()\n",
        "    self.n_channels = n_channels\n",
        "    self.n_classes = n_classes\n",
        "    self.bilinear = bilinear\n",
        "\n",
        "    self.inc = DoubleConv(n_channels, 64)\n",
        "    self.down1 = Down(64, 128)\n",
        "    self.down2 = Down(128, 256)\n",
        "    self.down3 = Down(256, 512)\n",
        "    factor = 2 if bilinear else 1\n",
        "    self.down4 = Down(512, 1024 // factor)\n",
        "    self.up1 = Up(1024, 512 // factor, bilinear)\n",
        "    self.up2 = Up(512, 256 // factor, bilinear)\n",
        "    self.up3 = Up(256, 128 // factor, bilinear)\n",
        "    self.up4 = Up(128, 64, bilinear)\n",
        "    self.outc = OutConv(64, n_classes)\n",
        "\n",
        "  def forward(self, x):\n",
        "    x1 = self.inc(x)\n",
        "    x2 = self.down1(x1)\n",
        "    x3 = self.down2(x2)\n",
        "    x4 = self.down3(x3)\n",
        "    x5 = self.down4(x4)\n",
        "    x = self.up1(x5, x4)\n",
        "    x = self.up2(x, x3)\n",
        "    x = self.up3(x, x2)\n",
        "    x = self.up4(x, x1)\n",
        "    logits = self.outc(x)\n",
        "    return logits"
      ],
      "execution_count": 3,
      "outputs": []
    },
    {
      "cell_type": "markdown",
      "metadata": {
        "id": "ZzDIbfPRo4F_"
      },
      "source": [
        "Testing"
      ]
    },
    {
      "cell_type": "code",
      "metadata": {
        "id": "iW--_30M092L"
      },
      "source": [
        "import numpy as np\n",
        "class Config:\n",
        "    root_path = '/content/drive/MyDrive/Deep_learning/Dataset/Hubmap-kidney-segmentation'\n",
        "    seed = 55\n",
        "    custom_colors = ['#35FCFF', '#FF355A', '#96C503', '#C5035B', '#28B463', '#35FFAF', '#8000FF', '#F400FF']\n",
        "    images_path = '/content/drive/MyDrive/Deep_learning/Dataset/Hubmap256x256/train'\n",
        "    masks_path = '/content/drive/MyDrive/Deep_learning/Dataset/Hubmap256x256/masks'\n",
        "    img_size = 256\n",
        "    pretrained_model_path = None\n",
        "    train_logs_path = None\n",
        "    test_csv_path = ''\n",
        "    \n",
        "def seed_everything(seed: int):\n",
        "    torch.manual_seed(seed)\n",
        "    torch.cuda.manual_seed(seed)\n",
        "    np.random.seed(seed)\n",
        "       \n",
        "config = Config()\n",
        "seed_everything(config.seed) "
      ],
      "execution_count": 4,
      "outputs": []
    },
    {
      "cell_type": "code",
      "metadata": {
        "id": "twLOlzdmugyV"
      },
      "source": [
        "import os\n",
        "import pandas as pd\n",
        "import cv2\n",
        "\n",
        "mean = np.array([0.65459856,0.48386562,0.69428385])\n",
        "std = np.array([0.15167958,0.23584107,0.13146145])\n",
        "\n",
        "def img2tensor(img, dtype:np.dtype=np.float32):\n",
        "  if img.ndim==2 : img = np.expand_dims(img, 2)\n",
        "  img = np.transpose(img, (2, 0, 1))\n",
        "  return torch.from_numpy(img.astype(dtype, copy=False))\n",
        "\n",
        "def get_augmentation(phase: str='train'):\n",
        "  if phase == 'train':\n",
        "    list_transform = [\n",
        "      A.HorizontalFlip(),\n",
        "      A.OneOf([\n",
        "        A.RandomContrast(),\n",
        "        A.RandomGamma(),\n",
        "        A.RandomBrightness()\n",
        "      ], p=0.3),\n",
        "      A.OneOf([\n",
        "        A.ElasticTransform(alpha=120, sigma=120*0.05, alpha_affine=120*0.03),\n",
        "        A.GridDistortion(),\n",
        "        A.OpticalDistortion(distort_limit=2, shift_limit=0.5)\n",
        "      ], p=0.3),\n",
        "      A.ShiftScaleRotate(p=0.2),\n",
        "      A.Resize(config.img_size, config.img_size, always_apply=True),\n",
        "    ]\n",
        "  else: \n",
        "    list_transform = [\n",
        "      A.Resize(config.img_size, config.img_size)\n",
        "    ]\n",
        "  return A.Compose(list_transform)\n",
        "\n",
        "class HuBMAPDataset(Dataset):\n",
        "  def __init__(self, ids, phase):\n",
        "    self.ids = ids\n",
        "    self.augmentations = get_augmentation(phase)\n",
        "\n",
        "  def __getitem__(self, idx):\n",
        "    name = self.ids[idx]\n",
        "    img = cv2.imread(f'{config.images_path}/{name}').astype('float32')\n",
        "    img /= 255.\n",
        "    mask = cv2.imread(f'{config.masks_path}/{name}')[:, :, 0:1]\n",
        "    augmented = self.augmentations(image=img, mask=mask)\n",
        "    img = augmented['image']\n",
        "    mask = augmented['mask']\n",
        "    img = img.transpose(2, 0, 1).astype('float32')\n",
        "    mask = mask.transpose(2, 0, 1).astype('float32')\n",
        "    return img, mask\n",
        "\n",
        "  def __len__(self):\n",
        "    return len(self.ids)\n",
        "\n",
        "\n",
        "def get_dataloader(phase: str = 'train', batch_size: int = 8, num_workers: int = 6, val_size: float = 0.2, fold: int = 0 ): \n",
        "  ids = os.listdir(config.images_path)\n",
        "  train_data = pd.DataFrame(ids, columns=['ids'])\n",
        "  skf = KFold(n_splits=7, random_state=config.seed, shuffle=True)\n",
        "  for i, (train_index, val_index) in enumerate(skf.split(train_data, train_data)):\n",
        "    train_data.loc[val_index, 'fold'] = i\n",
        "    train_df = train_data.loc[train_data['fold'] != fold].reset_index(drop=True)\n",
        "    val_df = train_data.loc[train_data['fold'] == fold].reset_index(drop=True)\n",
        "    ids = train_df['ids'].tolist() if phase == 'train' else val_df['ids'].tolist()\n",
        "    image_dataset = HuBMAPDataset(ids, phase)\n",
        "    dataloader = DataLoader(\n",
        "        image_dataset,\n",
        "        batch_size=batch_size,\n",
        "        num_workers= num_workers,\n",
        "        pin_memory=True,\n",
        "        shuffle=True,\n",
        "    )\n",
        "    return dataloader\n"
      ],
      "execution_count": 5,
      "outputs": []
    },
    {
      "cell_type": "code",
      "metadata": {
        "colab": {
          "base_uri": "https://localhost:8080/"
        },
        "id": "LPxxStMBowUu",
        "outputId": "8ec79d77-64ae-4364-f276-313fdbcf9581"
      },
      "source": [
        "val_dataloader = get_dataloader(phase='train')\n",
        "imgs, masks = next(iter(val_dataloader))\n",
        "print('images -> ', imgs.shape, imgs.dtype)\n",
        "print('masks -> ', masks.shape, masks.dtype)"
      ],
      "execution_count": 6,
      "outputs": [
        {
          "output_type": "stream",
          "text": [
            "images ->  torch.Size([8, 3, 256, 256]) torch.float32\n",
            "masks ->  torch.Size([8, 1, 256, 256]) torch.float32\n"
          ],
          "name": "stdout"
        }
      ]
    },
    {
      "cell_type": "code",
      "metadata": {
        "id": "HAn9jfW4qBGI"
      },
      "source": [
        "def dice_coef_metric(probabilities: torch.Tensor,\n",
        "                     truth: torch.Tensor, \n",
        "                     threshold: float=0.5,\n",
        "                     eps: float=1e-9) -> np.ndarray:\n",
        "  scores = []\n",
        "  num = probabilities.shape[0]\n",
        "  predictions = (probabilities >= threshold).float()\n",
        "  assert(predictions.shape == truth.shape)\n",
        "  for i in range(num):\n",
        "    prediction = predictions[i]\n",
        "    truth_ = truth[i]\n",
        "    intersection = 2.0 * (truth_*prediction).sum()\n",
        "    union = truth_.sum() + prediction.sum()\n",
        "    if truth_.sum() == 0 and prediction.sum() == 0:\n",
        "      scores.append(1.0)\n",
        "    else:\n",
        "      scores.append((intersection+eps) / union)\n",
        "  return np.mean(scores)"
      ],
      "execution_count": 7,
      "outputs": []
    },
    {
      "cell_type": "code",
      "metadata": {
        "id": "leKrjIyYvNYp"
      },
      "source": [
        ""
      ],
      "execution_count": 7,
      "outputs": []
    },
    {
      "cell_type": "code",
      "metadata": {
        "id": "tQXD7L5uvV0f"
      },
      "source": [
        "class Meter:\n",
        "  def __init__(self, threshold: float=0.5):\n",
        "    self.threshold = threshold\n",
        "    self.dice_scores = []\n",
        "  \n",
        "  def update(self, logits: torch.Tensor, targets: torch.Tensor):\n",
        "    probs = torch.sigmoid(logits)\n",
        "    dice = dice_coef_metric(probs, targets, self.threshold)\n",
        "    self.dice_scores.append(dice)\n",
        "  \n",
        "  def get_metrics(self) -> np.ndarray:\n",
        "    dice = np.mean(self.dice_scores)\n",
        "    return dice"
      ],
      "execution_count": 8,
      "outputs": []
    },
    {
      "cell_type": "code",
      "metadata": {
        "id": "sSb0kQGJwoKc"
      },
      "source": [
        "class DiceLoss(nn.Module):\n",
        "  def __init__(self, eps=1e-9):\n",
        "    super(DiceLoss, self).__init__()\n",
        "    self.eps = eps\n",
        "\n",
        "  def forward(self, logits, targets):\n",
        "    num = targets.size(0)\n",
        "    probability = torch.sigmoid(logits)\n",
        "    probability = probability.view(num, -1)\n",
        "    targets = targets.view(num, -1)\n",
        "    assert(probability.shape == targets.shape)\n",
        "    intersection = 2.0*(probability*targets).sum()\n",
        "    union = probability.sum() + targets.sum()\n",
        "    dice_score = (intersection +self.eps) / union\n",
        "    return 1.0 - dice_score"
      ],
      "execution_count": 9,
      "outputs": []
    },
    {
      "cell_type": "code",
      "metadata": {
        "id": "MoU7nesqyNTa"
      },
      "source": [
        "import time\n",
        "\n",
        "class Trainer:\n",
        "  def __init__(self,\n",
        "               model: nn.Module,\n",
        "               metric: nn.Module,\n",
        "               lr: float,\n",
        "               accumulation_steps: int,\n",
        "               batch_size: int,\n",
        "               num_epochs: int,\n",
        "               verbose: bool=True,\n",
        "               n_fold: int = 0):\n",
        "    self.device = 'cuda' if torch.cuda.is_available() else 'cpu'\n",
        "    print('device: ', self.device)\n",
        "    self.verbose = verbose\n",
        "    self.model = model\n",
        "    self.model = self.model.to(self.device)\n",
        "    self.metric = metric\n",
        "    self.optimizer = Adam(self.model.parameters(), lr=lr)\n",
        "    self.scheduler = ReduceLROnPlateau(self.optimizer, mode='min', patience=3, verbose=True)\n",
        "    self.accumulation_steps = accumulation_steps // batch_size\n",
        "    self.phases = ['train', 'val']\n",
        "    self.num_epochs = num_epochs\n",
        "    self.dataLoaders = {\n",
        "        phase: get_dataloader(phase=phase, batch_size=16, num_workers=4) for phase in self.phases\n",
        "    }\n",
        "    self.best_loss = float('inf')\n",
        "    self.losses = {phase: [] for phase in self.phases}\n",
        "    self.dice_score = {phase: [] for phase in self.phases}\n",
        "\n",
        "  def compute_loss_and_output(self, images, masks):\n",
        "    images = images.to(self.device)\n",
        "    masks = masks.to(self.device)\n",
        "    logits = self.model(images)\n",
        "    loss = self.metric(logits, masks)\n",
        "    return loss, logits\n",
        "\n",
        "  def train_epoch(self, epoch, phase):\n",
        "    print(f'{phase} epoch: {epoch}')\n",
        "    self.model.train() if phase == 'train' else self.model.eval()\n",
        "    meter = Meter()\n",
        "    dataloader = self.dataLoaders[phase]\n",
        "    total_batches = len(dataloader)\n",
        "    running_loss = 0.0\n",
        "    self.optimizer.zero_grad()\n",
        "    for i, (images, targets) in enumerate(dataloader):\n",
        "      loss, logits = self.compute_loss_and_output(images, targets)\n",
        "      loss = loss / self.accumulation_steps\n",
        "      if phase == 'train':\n",
        "        loss.backward()\n",
        "        if (i+1) % self.accumulation_steps == 0:\n",
        "          self.optimizer.step()\n",
        "          self.optimizer.zero_grad()\n",
        "      running_loss += loss.item()\n",
        "      meter.update(logits.detach().cpu(), targets.detach().cpu())\n",
        "    epoch_loss = (running_loss * self.accumulation_steps) / total_batches\n",
        "    epoch_dice = meter.get_metrics()\n",
        "    self.losses[phase].append(epoch_loss)\n",
        "    self.dice_score[phase].append(epoch_dice)\n",
        "    return epoch_loss\n",
        "\n",
        "  def train(self):\n",
        "    for epoch in range(self.num_epochs):\n",
        "      self.train_epoch(epoch, 'train')\n",
        "      with torch.no_grad():\n",
        "        val_loss = self.train_epoch(epoch,'val')\n",
        "        self.scheduler.step(val_loss)\n",
        "      if self.verbose:\n",
        "        self.plot_history()\n",
        "      if val_loss < self.best_loss:\n",
        "        self.best_loss = val_loss\n",
        "        torch.save(self.model.state_dict(), 'best_model.pth')\n",
        "        print(f\"\\n{'#'*20}\\nSaved new checkpoint\\n{'#'*20}\\n\")\n",
        "      # print()\n",
        "    self.save_history()\n",
        "    \n",
        "  def plot_history(self):\n",
        "    data = [self.losses, self.dice_score]\n",
        "    colors = ['deepskyblue', 'crimson']\n",
        "    labels = [\n",
        "            f\"\"\"\n",
        "            train loss {self.losses['train'][-1]}\n",
        "            val loss {self.losses['val'][-1]}\n",
        "            \"\"\",\n",
        "            \n",
        "            f\"\"\"\n",
        "            train dice score {self.dice_score['train'][-1]}\n",
        "            val dice score {self.dice_score['val'][-1]} \n",
        "            \"\"\", \n",
        "    ]\n",
        "\n",
        "    clear_output(True)\n",
        "    with plt.style.context(\"seaborn-dark-palette\"):\n",
        "      fig, axes = plt.subplots(2, 1, figsize=(8, 10))\n",
        "      for i, ax in enumerate(axes):\n",
        "        ax.plot(data[i]['val'], c=colors[0], label=\"val\")\n",
        "        ax.plot(data[i]['train'], c=colors[-1], label=\"train\")\n",
        "        ax.set_title(labels[i])\n",
        "        ax.legend(loc=\"upper right\")\n",
        "      plt.tight_layout()\n",
        "      plt.show()\n",
        "\n",
        "  def save_history(self):\n",
        "    torch.save(self.model.state_dict(), f\"last_epoch_model.pth\")\n",
        "    logs_ = [self.losses, self.dice_score]\n",
        "    log_names_ = [\"_loss\", \"_dice\"]\n",
        "    logs = [logs_[i][key] for i in list(range(len(logs_))) for key in logs_[i]]\n",
        "    log_names = [key+log_names_[i] for i in list(range(len(logs_))) for key in logs_[i]]\n",
        "    pd.DataFrame(dict(zip(log_names, logs))).to_csv(\"train_log.csv\", index=False)\n",
        "\n",
        "  def load_pretrained_model(self, model_path):\n",
        "    self.model.load_state_dict(torch.load(model_path))\n",
        "    print('Pretrained model loaded.')\n",
        "  \n"
      ],
      "execution_count": 10,
      "outputs": []
    },
    {
      "cell_type": "code",
      "metadata": {
        "id": "J5A2n26n-80j"
      },
      "source": [
        "model = UNet(3, 1)\n"
      ],
      "execution_count": 11,
      "outputs": []
    },
    {
      "cell_type": "code",
      "metadata": {
        "id": "OWqsp0c9QAhv",
        "outputId": "df174ab1-ca42-4d7b-b86f-1396a4149ee5",
        "colab": {
          "base_uri": "https://localhost:8080/"
        }
      },
      "source": [
        "print(model)"
      ],
      "execution_count": 12,
      "outputs": [
        {
          "output_type": "stream",
          "text": [
            "UNet(\n",
            "  (inc): DoubleConv(\n",
            "    (conv1): Conv2d(3, 64, kernel_size=(3, 3), stride=(1, 1), padding=(1, 1))\n",
            "    (bn1): BatchNorm2d(64, eps=1e-05, momentum=0.1, affine=True, track_running_stats=True)\n",
            "    (conv2): Conv2d(64, 64, kernel_size=(3, 3), stride=(1, 1), padding=(1, 1))\n",
            "    (bn2): BatchNorm2d(64, eps=1e-05, momentum=0.1, affine=True, track_running_stats=True)\n",
            "  )\n",
            "  (down1): Down(\n",
            "    (pool): MaxPool2d(kernel_size=2, stride=2, padding=0, dilation=1, ceil_mode=False)\n",
            "    (doubConv): DoubleConv(\n",
            "      (conv1): Conv2d(64, 128, kernel_size=(3, 3), stride=(1, 1), padding=(1, 1))\n",
            "      (bn1): BatchNorm2d(128, eps=1e-05, momentum=0.1, affine=True, track_running_stats=True)\n",
            "      (conv2): Conv2d(128, 128, kernel_size=(3, 3), stride=(1, 1), padding=(1, 1))\n",
            "      (bn2): BatchNorm2d(128, eps=1e-05, momentum=0.1, affine=True, track_running_stats=True)\n",
            "    )\n",
            "  )\n",
            "  (down2): Down(\n",
            "    (pool): MaxPool2d(kernel_size=2, stride=2, padding=0, dilation=1, ceil_mode=False)\n",
            "    (doubConv): DoubleConv(\n",
            "      (conv1): Conv2d(128, 256, kernel_size=(3, 3), stride=(1, 1), padding=(1, 1))\n",
            "      (bn1): BatchNorm2d(256, eps=1e-05, momentum=0.1, affine=True, track_running_stats=True)\n",
            "      (conv2): Conv2d(256, 256, kernel_size=(3, 3), stride=(1, 1), padding=(1, 1))\n",
            "      (bn2): BatchNorm2d(256, eps=1e-05, momentum=0.1, affine=True, track_running_stats=True)\n",
            "    )\n",
            "  )\n",
            "  (down3): Down(\n",
            "    (pool): MaxPool2d(kernel_size=2, stride=2, padding=0, dilation=1, ceil_mode=False)\n",
            "    (doubConv): DoubleConv(\n",
            "      (conv1): Conv2d(256, 512, kernel_size=(3, 3), stride=(1, 1), padding=(1, 1))\n",
            "      (bn1): BatchNorm2d(512, eps=1e-05, momentum=0.1, affine=True, track_running_stats=True)\n",
            "      (conv2): Conv2d(512, 512, kernel_size=(3, 3), stride=(1, 1), padding=(1, 1))\n",
            "      (bn2): BatchNorm2d(512, eps=1e-05, momentum=0.1, affine=True, track_running_stats=True)\n",
            "    )\n",
            "  )\n",
            "  (down4): Down(\n",
            "    (pool): MaxPool2d(kernel_size=2, stride=2, padding=0, dilation=1, ceil_mode=False)\n",
            "    (doubConv): DoubleConv(\n",
            "      (conv1): Conv2d(512, 512, kernel_size=(3, 3), stride=(1, 1), padding=(1, 1))\n",
            "      (bn1): BatchNorm2d(512, eps=1e-05, momentum=0.1, affine=True, track_running_stats=True)\n",
            "      (conv2): Conv2d(512, 512, kernel_size=(3, 3), stride=(1, 1), padding=(1, 1))\n",
            "      (bn2): BatchNorm2d(512, eps=1e-05, momentum=0.1, affine=True, track_running_stats=True)\n",
            "    )\n",
            "  )\n",
            "  (up1): Up(\n",
            "    (up): Upsample(scale_factor=2.0, mode=bilinear)\n",
            "    (conv): DoubleConv(\n",
            "      (conv1): Conv2d(1024, 512, kernel_size=(3, 3), stride=(1, 1), padding=(1, 1))\n",
            "      (bn1): BatchNorm2d(512, eps=1e-05, momentum=0.1, affine=True, track_running_stats=True)\n",
            "      (conv2): Conv2d(512, 256, kernel_size=(3, 3), stride=(1, 1), padding=(1, 1))\n",
            "      (bn2): BatchNorm2d(256, eps=1e-05, momentum=0.1, affine=True, track_running_stats=True)\n",
            "    )\n",
            "  )\n",
            "  (up2): Up(\n",
            "    (up): Upsample(scale_factor=2.0, mode=bilinear)\n",
            "    (conv): DoubleConv(\n",
            "      (conv1): Conv2d(512, 256, kernel_size=(3, 3), stride=(1, 1), padding=(1, 1))\n",
            "      (bn1): BatchNorm2d(256, eps=1e-05, momentum=0.1, affine=True, track_running_stats=True)\n",
            "      (conv2): Conv2d(256, 128, kernel_size=(3, 3), stride=(1, 1), padding=(1, 1))\n",
            "      (bn2): BatchNorm2d(128, eps=1e-05, momentum=0.1, affine=True, track_running_stats=True)\n",
            "    )\n",
            "  )\n",
            "  (up3): Up(\n",
            "    (up): Upsample(scale_factor=2.0, mode=bilinear)\n",
            "    (conv): DoubleConv(\n",
            "      (conv1): Conv2d(256, 128, kernel_size=(3, 3), stride=(1, 1), padding=(1, 1))\n",
            "      (bn1): BatchNorm2d(128, eps=1e-05, momentum=0.1, affine=True, track_running_stats=True)\n",
            "      (conv2): Conv2d(128, 64, kernel_size=(3, 3), stride=(1, 1), padding=(1, 1))\n",
            "      (bn2): BatchNorm2d(64, eps=1e-05, momentum=0.1, affine=True, track_running_stats=True)\n",
            "    )\n",
            "  )\n",
            "  (up4): Up(\n",
            "    (up): Upsample(scale_factor=2.0, mode=bilinear)\n",
            "    (conv): DoubleConv(\n",
            "      (conv1): Conv2d(128, 64, kernel_size=(3, 3), stride=(1, 1), padding=(1, 1))\n",
            "      (bn1): BatchNorm2d(64, eps=1e-05, momentum=0.1, affine=True, track_running_stats=True)\n",
            "      (conv2): Conv2d(64, 64, kernel_size=(3, 3), stride=(1, 1), padding=(1, 1))\n",
            "      (bn2): BatchNorm2d(64, eps=1e-05, momentum=0.1, affine=True, track_running_stats=True)\n",
            "    )\n",
            "  )\n",
            "  (outc): OutConv(\n",
            "    (conv): Conv2d(64, 1, kernel_size=(1, 1), stride=(1, 1))\n",
            "  )\n",
            ")\n"
          ],
          "name": "stdout"
        }
      ]
    },
    {
      "cell_type": "code",
      "metadata": {
        "id": "yDoMaxHLQEwu",
        "outputId": "0e181347-8a1f-4dc4-c782-80131d69f9a9",
        "colab": {
          "base_uri": "https://localhost:8080/"
        }
      },
      "source": [
        "pytorch_total_params = sum(p.numel() for p in model.parameters() if p.requires_grad)\n",
        "print(pytorch_total_params)"
      ],
      "execution_count": 13,
      "outputs": [
        {
          "output_type": "stream",
          "text": [
            "17267393\n"
          ],
          "name": "stdout"
        }
      ]
    },
    {
      "cell_type": "code",
      "metadata": {
        "colab": {
          "base_uri": "https://localhost:8080/"
        },
        "id": "amdejvYGK_77",
        "outputId": "ab349107-42ae-42cc-c6c5-c9da9c460fc8"
      },
      "source": [
        "trainer = Trainer(model=model, \n",
        "                  metric=DiceLoss(), \n",
        "                  lr=5e-4, \n",
        "                  accumulation_steps=32, \n",
        "                  batch_size=8,\n",
        "                  num_epochs=30,\n",
        "                  n_fold=0)"
      ],
      "execution_count": 14,
      "outputs": [
        {
          "output_type": "stream",
          "text": [
            "device:  cuda\n"
          ],
          "name": "stdout"
        }
      ]
    },
    {
      "cell_type": "code",
      "metadata": {
        "colab": {
          "base_uri": "https://localhost:8080/",
          "height": 831
        },
        "id": "N601OXVpLqiw",
        "outputId": "4af9701c-248a-4afb-fcf4-7caf7e427533"
      },
      "source": [
        "trainer.train()"
      ],
      "execution_count": null,
      "outputs": [
        {
          "output_type": "display_data",
          "data": {
            "image/png": "[encoded data removed]",
            "text/plain": [
              "<Figure size 576x720 with 2 Axes>"
            ]
          },
          "metadata": {
            "tags": [],
            "needs_background": "light"
          }
        },
        {
          "output_type": "stream",
          "text": [
            "\n",
            "####################\n",
            "Saved new checkpoint\n",
            "####################\n",
            "\n",
            "train epoch: 13\n"
          ],
          "name": "stdout"
        }
      ]
    },
    {
      "cell_type": "code",
      "metadata": {
        "id": "OarRd1YDPnEW"
      },
      "source": [
        ""
      ],
      "execution_count": null,
      "outputs": []
    }
  ]
}